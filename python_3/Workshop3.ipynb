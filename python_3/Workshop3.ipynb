{
 "cells": [
  {
   "cell_type": "markdown",
   "metadata": {
    "nbpresent": {
     "id": "f77e2465-07f3-4ad0-ab0b-970cc19da161"
    }
   },
   "source": [
    "# <center> DATA SCIENCE WITH SOCIAL SCIENCE DATA <br/><br/> CSCAR WORKSHOP <br/><br/> 03/30/2017\n",
    "## <center> Marcio Mourao and Jeff Lockhart\n"
   ]
  },
  {
   "cell_type": "markdown",
   "metadata": {},
   "source": [
    "# <center> Setup for Anaconda / Jupyter Notebook\n",
    "\n",
    "<ul>\n",
    "    <li>Get the materials:</li>\n",
    "    <ul>\n",
    "        <li>Go to the page https://marcio-mourao.github.io/</li>\n",
    "        <li>Download the materials under \"Social Data Science - Part III\" to your \"username/Documents\"</li>\n",
    "    </ul><br/>\n",
    "    <li>Open the Jupyter Notebook:</li>\n",
    "    <ul>\n",
    "        <li>Click the Windows button (Bottom Left Corner)</li>\n",
    "        <li>Click \"All apps\"</li>\n",
    "        <li>Click \"Anaconda3 (64-bit)\"</li>\n",
    "        <li>Click \"Jupyter Notebook\" </li>\n",
    "    </ul><br/>\n",
    "    <li>Click \"Workshop.ipynb\" (this should open a new tab in the browser)</li>\n",
    "</ul>"
   ]
  },
  {
   "cell_type": "markdown",
   "metadata": {},
   "source": [
    "# <center> Introduction\n",
    "\n",
    "<ul>\n",
    "  <li>Please, sign up the sheet! </li>\n",
    "  <li>Don't forget to go to: http://cscar.research.umich.edu/ to know what we're offering!</li>\n",
    "</ul>"
   ]
  },
  {
   "cell_type": "markdown",
   "metadata": {},
   "source": [
    "# <center> Summary of this workshop\n",
    "\n",
    "<ul>\n",
    "  <li>Review on simple and structured Python data types</li>\n",
    "  <li>Creating, describing and looking for missingness in data</li>\n",
    "  <li>Indexing and slicing</li>\n",
    "  <li>Apply functions, groupby and sort data</li>\n",
    "  <li>Visualization</li>\n",
    "  <li>Linear Regression</li>\n",
    "</ul>\n",
    "\n"
   ]
  },
  {
   "cell_type": "markdown",
   "metadata": {},
   "source": [
    "# <center> References\n",
    "\n",
    "<ul>\n",
    "  <li>An Introduction to Statistical Learning (Springer)</li>\n",
    "  <li>https://www.continuum.io/anaconda-overview</li>\n",
    "  <li>http://www.numpy.org/</li>\n",
    "  <li>http://pandas.pydata.org/pandas-docs/stable/generated/pandas.DataFrame.html</li>\n",
    "  <li>http://matplotlib.org/</li>\n",
    "  <li>http://pandas.pydata.org/pandas-docs/stable/10min.html</li>\n",
    "  <li>http://scikit-learn.org/stable/</li>\n",
    "  <li>http://statsmodels.sourceforge.net/</li>\n",
    "</ul>"
   ]
  },
  {
   "cell_type": "code",
   "execution_count": null,
   "metadata": {
    "collapsed": false
   },
   "outputs": [],
   "source": [
    "#Check Python version\n",
    "import sys\n",
    "print(sys.version)"
   ]
  },
  {
   "cell_type": "markdown",
   "metadata": {},
   "source": [
    "## Import relevant modules"
   ]
  },
  {
   "cell_type": "code",
   "execution_count": null,
   "metadata": {
    "collapsed": true
   },
   "outputs": [],
   "source": [
    "%matplotlib inline\n",
    "import numpy as np\n",
    "#from numpy import * #another way of importing but I prefer the above\n",
    "import pandas as pd\n",
    "import matplotlib.pyplot as plt\n",
    "import statsmodels.formula.api as smf"
   ]
  },
  {
   "cell_type": "code",
   "execution_count": null,
   "metadata": {
    "collapsed": false
   },
   "outputs": [],
   "source": [
    "#Check numpy and pandas version\n",
    "print(np.__version__)\n",
    "print(pd.__version__)"
   ]
  },
  {
   "cell_type": "markdown",
   "metadata": {},
   "source": [
    "## Python Simple Data Types\n",
    "##### Integers\n",
    "##### Floats\n",
    "##### Strings\n",
    "##### Booleans"
   ]
  },
  {
   "cell_type": "markdown",
   "metadata": {},
   "source": [
    "## Python Data Structures"
   ]
  },
  {
   "cell_type": "markdown",
   "metadata": {},
   "source": [
    "### Lists"
   ]
  },
  {
   "cell_type": "code",
   "execution_count": null,
   "metadata": {
    "collapsed": false
   },
   "outputs": [],
   "source": [
    "example_list = [2,4,'fg',8,[3,4]]\n",
    "print(example_list)\n",
    "print(example_list[0])\n",
    "print(example_list[2:4])\n",
    "print(example_list[-2])\n",
    "example_list[2]=20\n",
    "print(example_list)\n",
    "print(example_list[4][0])"
   ]
  },
  {
   "cell_type": "markdown",
   "metadata": {},
   "source": [
    "### Tuples"
   ]
  },
  {
   "cell_type": "code",
   "execution_count": null,
   "metadata": {
    "collapsed": false
   },
   "outputs": [],
   "source": [
    "example_tuple = (2,4,6,8,10)\n",
    "print(example_tuple)\n",
    "print(example_tuple[1])\n",
    "#example_tuple[2]=20 #this should produce an error"
   ]
  },
  {
   "cell_type": "markdown",
   "metadata": {},
   "source": [
    "### Dictionary"
   ]
  },
  {
   "cell_type": "code",
   "execution_count": null,
   "metadata": {
    "collapsed": false
   },
   "outputs": [],
   "source": [
    "example_dictionary = {'A':20,'B':40,'C':60}\n",
    "print(example_dictionary)\n",
    "print(example_dictionary['B'])\n",
    "example_dictionary['C']=100\n",
    "print(example_dictionary)\n",
    "print(example_dictionary.keys())\n",
    "print(example_dictionary.values())"
   ]
  },
  {
   "cell_type": "markdown",
   "metadata": {},
   "source": [
    "### Numpy arrays"
   ]
  },
  {
   "cell_type": "code",
   "execution_count": null,
   "metadata": {
    "collapsed": false
   },
   "outputs": [],
   "source": [
    "example_array = np.array([2,4,6,8,10])\n",
    "print(example_array)\n",
    "print(example_array[0])\n",
    "print(example_array[2:4])\n",
    "print(example_array[-2])\n",
    "example_array[2]=20\n",
    "print(example_array)"
   ]
  },
  {
   "cell_type": "markdown",
   "metadata": {},
   "source": [
    "### Pandas Series, a one dimensional labeled array"
   ]
  },
  {
   "cell_type": "code",
   "execution_count": null,
   "metadata": {
    "collapsed": false
   },
   "outputs": [],
   "source": [
    "example_series = pd.Series(example_dictionary)\n",
    "print(example_series)\n",
    "print(example_series[0])\n",
    "print(example_series['B':])"
   ]
  },
  {
   "cell_type": "markdown",
   "metadata": {},
   "source": [
    "### Pandas Dataframes, a two-dimensional labeled data structure with columns of potentially different types"
   ]
  },
  {
   "cell_type": "code",
   "execution_count": null,
   "metadata": {
    "collapsed": false
   },
   "outputs": [],
   "source": [
    "d=[['df',1.0],\n",
    "   ['as',3],\n",
    "   ['bq',5]]\n",
    "example_series = pd.DataFrame(d,index=['Row1','Row2','Row3'],columns=['Column1','Column2'])\n",
    "print(example_series)\n",
    "example_series.dtypes"
   ]
  },
  {
   "cell_type": "markdown",
   "metadata": {},
   "source": [
    "# <center> Lets work on the data"
   ]
  },
  {
   "cell_type": "markdown",
   "metadata": {},
   "source": [
    "## Create, describe and look for missing data"
   ]
  },
  {
   "cell_type": "code",
   "execution_count": null,
   "metadata": {
    "collapsed": true
   },
   "outputs": [],
   "source": [
    "#Displays the signature of the function\n",
    "?pd.read_csv"
   ]
  },
  {
   "cell_type": "code",
   "execution_count": null,
   "metadata": {
    "collapsed": false,
    "nbpresent": {
     "id": "1862e15b-a819-4062-93a3-b68d3f0a0865"
    }
   },
   "outputs": [],
   "source": [
    "#Creates a dataframe named \"advertising\" with columns 'TV' and 'Radio'\n",
    "col_names=['TV','Radio']\n",
    "advertising = pd.read_csv('Advertising.csv',header='infer',usecols=col_names)\n",
    "advertising"
   ]
  },
  {
   "cell_type": "code",
   "execution_count": null,
   "metadata": {
    "collapsed": false
   },
   "outputs": [],
   "source": [
    "#Displays number of lines and number of columns of the dataframe\n",
    "advertising.shape"
   ]
  },
  {
   "cell_type": "code",
   "execution_count": null,
   "metadata": {
    "collapsed": false
   },
   "outputs": [],
   "source": [
    "#Displays the data types associated with each dataframe column\n",
    "advertising.dtypes"
   ]
  },
  {
   "cell_type": "code",
   "execution_count": null,
   "metadata": {
    "collapsed": false
   },
   "outputs": [],
   "source": [
    "#Read all columns from the data into a new dataframe - we will give it the same name\n",
    "advertising = pd.read_csv('Advertising.csv',index_col=0)\n",
    "advertising"
   ]
  },
  {
   "cell_type": "code",
   "execution_count": null,
   "metadata": {
    "collapsed": false
   },
   "outputs": [],
   "source": [
    "#Displays the data types of each column on the dataframe\n",
    "advertising.dtypes"
   ]
  },
  {
   "cell_type": "code",
   "execution_count": null,
   "metadata": {
    "collapsed": false
   },
   "outputs": [],
   "source": [
    "#Describes the dataframe\n",
    "advertising.describe(include='all')"
   ]
  },
  {
   "cell_type": "code",
   "execution_count": null,
   "metadata": {
    "collapsed": false
   },
   "outputs": [],
   "source": [
    "#Gets frequency distribution\n",
    "advertising['Radio'].value_counts().head()"
   ]
  },
  {
   "cell_type": "code",
   "execution_count": null,
   "metadata": {
    "collapsed": false,
    "nbpresent": {
     "id": "61b8eb03-4209-4149-bd6d-dd930fd1bde1"
    }
   },
   "outputs": [],
   "source": [
    "#Displays whether columns contain any null values\n",
    "advertising.isnull().any(axis=0)"
   ]
  },
  {
   "cell_type": "code",
   "execution_count": null,
   "metadata": {
    "collapsed": false
   },
   "outputs": [],
   "source": [
    "#Creates a list with indexes where you have nulls\n",
    "null_indexes=np.where(advertising.isnull())\n",
    "null_indexes"
   ]
  },
  {
   "cell_type": "code",
   "execution_count": null,
   "metadata": {
    "collapsed": false
   },
   "outputs": [],
   "source": [
    "#Displays the lines of the dataframe with the null indexes\n",
    "advertising.iloc[null_indexes[0]]"
   ]
  },
  {
   "cell_type": "code",
   "execution_count": null,
   "metadata": {
    "collapsed": false
   },
   "outputs": [],
   "source": [
    "#Count the number of missing values in each column of the dataframe\n",
    "advertising.apply(lambda x: sum(x.isnull()),axis=0) "
   ]
  },
  {
   "cell_type": "markdown",
   "metadata": {},
   "source": [
    "## Indexing and Slicing"
   ]
  },
  {
   "cell_type": "code",
   "execution_count": null,
   "metadata": {
    "collapsed": false
   },
   "outputs": [],
   "source": [
    "#Creates a dataframe named \"advertising\" and explictly adds other characters to be interpreted as missing values\n",
    "advertising = pd.read_csv('Advertising.csv', index_col=0, na_values=['.','#'])\n",
    "advertising"
   ]
  },
  {
   "cell_type": "code",
   "execution_count": null,
   "metadata": {
    "collapsed": false
   },
   "outputs": [],
   "source": [
    "#Displays the data types of columns on the dataframe\n",
    "advertising.dtypes"
   ]
  },
  {
   "cell_type": "code",
   "execution_count": null,
   "metadata": {
    "collapsed": false
   },
   "outputs": [],
   "source": [
    "#Describes the dataframe\n",
    "advertising.describe(include='all')"
   ]
  },
  {
   "cell_type": "code",
   "execution_count": null,
   "metadata": {
    "collapsed": false,
    "nbpresent": {
     "id": "ba4ad056-9582-41c1-8be5-fdc14d755642"
    }
   },
   "outputs": [],
   "source": [
    "#Displays the first rows of the dataframe\n",
    "advertising[:5]"
   ]
  },
  {
   "cell_type": "code",
   "execution_count": null,
   "metadata": {
    "collapsed": false,
    "nbpresent": {
     "id": "c128b972-06c0-423d-a7b0-3faf2a3879c0"
    }
   },
   "outputs": [],
   "source": [
    "#Displays the first rows of the dataframe\n",
    "advertising.head()"
   ]
  },
  {
   "cell_type": "code",
   "execution_count": null,
   "metadata": {
    "collapsed": false,
    "nbpresent": {
     "id": "2f36e2c9-d552-4283-8447-989f1ee51eea"
    }
   },
   "outputs": [],
   "source": [
    "#Displays the last rows of the dataframe\n",
    "advertising[::-1].head()"
   ]
  },
  {
   "cell_type": "code",
   "execution_count": null,
   "metadata": {
    "collapsed": false,
    "nbpresent": {
     "id": "a5f6ec90-c63a-4bf1-8581-21f64bd0d0a1"
    }
   },
   "outputs": [],
   "source": [
    "#Same as above, but returns a numpy array of values\n",
    "advertising[::-1].head().values"
   ]
  },
  {
   "cell_type": "code",
   "execution_count": null,
   "metadata": {
    "collapsed": false,
    "nbpresent": {
     "id": "625e7e6f-bb67-4946-b43b-6f4085f64319"
    }
   },
   "outputs": [],
   "source": [
    "#From the dataframe, retrive rows in position (integer based index) 2 and 3 and columns in location 0\n",
    "advertising.iloc[2:4,0]"
   ]
  },
  {
   "cell_type": "code",
   "execution_count": null,
   "metadata": {
    "collapsed": false,
    "nbpresent": {
     "id": "b92db07c-d63b-4095-ad7e-d9d7a554a74e"
    }
   },
   "outputs": [],
   "source": [
    "#From the dataframe, retrieve rows with labels 2, 3 and 4 and column 'TV'\n",
    "advertising.loc[2:4,'TV']"
   ]
  },
  {
   "cell_type": "code",
   "execution_count": null,
   "metadata": {
    "collapsed": false,
    "nbpresent": {
     "id": "e2deb9b5-6f70-46fc-b4d1-8edcba778ed6"
    }
   },
   "outputs": [],
   "source": [
    "#From the dataframe, retrive rows with labels 2, 3 and 4 and columns 'TV' and 'Sales'\n",
    "advertising.ix[2:4,['TV','Sales']]\n",
    "#advertising.ix[2:4,[0,3]] #Another way of getting the slice, but I prefer the above"
   ]
  },
  {
   "cell_type": "code",
   "execution_count": null,
   "metadata": {
    "collapsed": false,
    "nbpresent": {
     "id": "f4b33c37-6314-48d4-99f1-bcfb1cb5701a"
    }
   },
   "outputs": [],
   "source": [
    "#Retrieves a boolean series with True values wherever sales is lower than 10\n",
    "advertising['Sales']<10"
   ]
  },
  {
   "cell_type": "code",
   "execution_count": null,
   "metadata": {
    "collapsed": false,
    "nbpresent": {
     "id": "c6049f8e-3a66-4957-990a-84ce3df01384"
    }
   },
   "outputs": [],
   "source": [
    "#Returns a subsection of the dataframe where sales are lower than 10\n",
    "advertising.ix[advertising['Sales']<10,:]"
   ]
  },
  {
   "cell_type": "code",
   "execution_count": null,
   "metadata": {
    "collapsed": false
   },
   "outputs": [],
   "source": [
    "#Removes any lines from the dataframe that contains NaNs \n",
    "advertising2=advertising.dropna(axis=0,how='any')\n",
    "advertising2"
   ]
  },
  {
   "cell_type": "code",
   "execution_count": null,
   "metadata": {
    "collapsed": false
   },
   "outputs": [],
   "source": [
    "#Checks for NaNs\n",
    "advertising2.isnull().any()"
   ]
  },
  {
   "cell_type": "code",
   "execution_count": null,
   "metadata": {
    "collapsed": false
   },
   "outputs": [],
   "source": [
    "#Displays the number of lines and columns of the dataframe\n",
    "advertising2.shape"
   ]
  },
  {
   "cell_type": "code",
   "execution_count": null,
   "metadata": {
    "collapsed": false
   },
   "outputs": [],
   "source": [
    "#Fill the missing data using interpolation\n",
    "advertising2=advertising.interpolate(method='linear')\n",
    "advertising2"
   ]
  },
  {
   "cell_type": "code",
   "execution_count": null,
   "metadata": {
    "collapsed": false
   },
   "outputs": [],
   "source": [
    "#Checks for NaNs\n",
    "advertising2.isnull().any()"
   ]
  },
  {
   "cell_type": "code",
   "execution_count": null,
   "metadata": {
    "collapsed": false,
    "scrolled": true
   },
   "outputs": [],
   "source": [
    "#Displays the number of lines and columns of the dataframe\n",
    "advertising2.shape"
   ]
  },
  {
   "cell_type": "markdown",
   "metadata": {},
   "source": [
    "## Apply functions, Groupby and Sort data"
   ]
  },
  {
   "cell_type": "code",
   "execution_count": null,
   "metadata": {
    "collapsed": false
   },
   "outputs": [],
   "source": [
    "#Creates a dataframe named \"advertising\" with the original values (no missing values or odd characters)\n",
    "advertising = pd.read_csv('Advertising_original.csv', index_col=0)\n",
    "advertising.head()"
   ]
  },
  {
   "cell_type": "code",
   "execution_count": null,
   "metadata": {
    "collapsed": false
   },
   "outputs": [],
   "source": [
    "#Displays whether columns contain any null values\n",
    "advertising.isnull().any()"
   ]
  },
  {
   "cell_type": "code",
   "execution_count": null,
   "metadata": {
    "collapsed": false
   },
   "outputs": [],
   "source": [
    "#Returns the mean of each one of the numerical columns on the dataframe\n",
    "advertising.mean(axis=0)"
   ]
  },
  {
   "cell_type": "code",
   "execution_count": null,
   "metadata": {
    "collapsed": false
   },
   "outputs": [],
   "source": [
    "#Returns the mean of each one of the numerical columns on the dataframe\n",
    "advertising.apply(np.mean)"
   ]
  },
  {
   "cell_type": "code",
   "execution_count": null,
   "metadata": {
    "collapsed": false
   },
   "outputs": [],
   "source": [
    "#Returns the cumulative sum along the columns\n",
    "advertising.loc[:,'Sales':].apply(np.cumsum,axis=0).head()"
   ]
  },
  {
   "cell_type": "code",
   "execution_count": null,
   "metadata": {
    "collapsed": false
   },
   "outputs": [],
   "source": [
    "#Returns the difference between the max and min for each one of the columns\n",
    "advertising.apply(lambda x: (x.max()) - x.min())"
   ]
  },
  {
   "cell_type": "code",
   "execution_count": null,
   "metadata": {
    "collapsed": false
   },
   "outputs": [],
   "source": [
    "#Confirms the difference above for the column 'age\n",
    "advertising.TV.max()-advertising.TV.min()"
   ]
  },
  {
   "cell_type": "code",
   "execution_count": null,
   "metadata": {
    "collapsed": false
   },
   "outputs": [],
   "source": [
    "#Calculate zscore\n",
    "from scipy.stats import zscore\n",
    "advertising2=advertising.apply(zscore)\n",
    "advertising2"
   ]
  },
  {
   "cell_type": "code",
   "execution_count": null,
   "metadata": {
    "collapsed": false
   },
   "outputs": [],
   "source": [
    "#Obtains the mean of each column\n",
    "advertising2.mean()"
   ]
  },
  {
   "cell_type": "code",
   "execution_count": null,
   "metadata": {
    "collapsed": false
   },
   "outputs": [],
   "source": [
    "#Creates a new column on the dataframe with a \n",
    "advertising['marketType']='B15'\n",
    "advertising.loc[advertising.Sales>15,'marketType']='G15'\n",
    "advertising"
   ]
  },
  {
   "cell_type": "code",
   "execution_count": null,
   "metadata": {
    "collapsed": false
   },
   "outputs": [],
   "source": [
    "#Check the datatypes\n",
    "advertising.dtypes"
   ]
  },
  {
   "cell_type": "code",
   "execution_count": null,
   "metadata": {
    "collapsed": false
   },
   "outputs": [],
   "source": [
    "#Describes the new dataframe\n",
    "advertising.describe(include='all')"
   ]
  },
  {
   "cell_type": "code",
   "execution_count": null,
   "metadata": {
    "collapsed": false
   },
   "outputs": [],
   "source": [
    "#Groups the data by 'marketType and obtains the mean of each column for each group\n",
    "advertising.groupby('marketType').mean()"
   ]
  },
  {
   "cell_type": "code",
   "execution_count": null,
   "metadata": {
    "collapsed": false
   },
   "outputs": [],
   "source": [
    "#Groups the data by 'marketType and obtains the mean of each column for each group\n",
    "advertising.ix[1:200,['Radio','Sales','marketType']].groupby('marketType').std()"
   ]
  },
  {
   "cell_type": "code",
   "execution_count": null,
   "metadata": {
    "collapsed": false
   },
   "outputs": [],
   "source": [
    "#Sorts the data by marketType and then Sales in a specified order\n",
    "advertising.sort_values(by=['marketType','Sales'],ascending=[True,False])"
   ]
  },
  {
   "cell_type": "markdown",
   "metadata": {},
   "source": [
    "## Visualization"
   ]
  },
  {
   "cell_type": "code",
   "execution_count": null,
   "metadata": {
    "collapsed": false
   },
   "outputs": [],
   "source": [
    "#Creates a boxplot of all columns on the dataframe 'data\n",
    "advertising.boxplot()"
   ]
  },
  {
   "cell_type": "code",
   "execution_count": null,
   "metadata": {
    "collapsed": false
   },
   "outputs": [],
   "source": [
    "#Creates a boxplot of 'TV' and 'Sales' on the dataframe 'data\n",
    "advertising.boxplot(column=['TV','Sales'])"
   ]
  },
  {
   "cell_type": "code",
   "execution_count": null,
   "metadata": {
    "collapsed": false
   },
   "outputs": [],
   "source": [
    "#Creates a boxplot of all columns on the dataframe 'data\n",
    "advertising.boxplot(column='Sales',by='marketType')"
   ]
  },
  {
   "cell_type": "code",
   "execution_count": null,
   "metadata": {
    "collapsed": false
   },
   "outputs": [],
   "source": [
    "#Creates a boxplot grouped by 'marketType' (remember that marketType has two possible values)\n",
    "advertising.groupby('marketType').boxplot()"
   ]
  },
  {
   "cell_type": "code",
   "execution_count": null,
   "metadata": {
    "collapsed": false
   },
   "outputs": [],
   "source": [
    "#Creates a histogram of the numerical data on the dataframe\n",
    "advertising.hist(grid='off')"
   ]
  },
  {
   "cell_type": "code",
   "execution_count": null,
   "metadata": {
    "collapsed": false
   },
   "outputs": [],
   "source": [
    "#Creates a histogram of the numerical data on the dataframe grouped by 'marketType'\n",
    "advertising.groupby('marketType').hist(column='Radio')"
   ]
  },
  {
   "cell_type": "code",
   "execution_count": null,
   "metadata": {
    "collapsed": false
   },
   "outputs": [],
   "source": [
    "#Displays the histograms of 'Sales' grouped by 'marketType' in the same plot\n",
    "plt.rcParams.update({'font.size': 20})\n",
    "plt.figure()\n",
    "advertising.groupby('marketType').Sales.hist(alpha=0.5)\n",
    "plt.legend(labels=['B','G'],loc='best')\n",
    "plt.xlabel('Sales')\n",
    "plt.ylabel('Frequency')\n",
    "plt.grid('off')"
   ]
  },
  {
   "cell_type": "code",
   "execution_count": null,
   "metadata": {
    "collapsed": false
   },
   "outputs": [],
   "source": [
    "#Creates a scatter matrix of the numerical data in the dataframe\n",
    "from pandas.tools.plotting import scatter_matrix\n",
    "scatter_matrix(advertising, alpha=1, figsize=(10, 10), diagonal='hist')"
   ]
  },
  {
   "cell_type": "markdown",
   "metadata": {
    "collapsed": true
   },
   "source": [
    "## Linear Regression"
   ]
  },
  {
   "cell_type": "code",
   "execution_count": null,
   "metadata": {
    "collapsed": false
   },
   "outputs": [],
   "source": [
    "#Fit a linear regression model with only one covariate\n",
    "lrmfit = smf.ols('Sales ~ TV',data=advertising).fit()"
   ]
  },
  {
   "cell_type": "code",
   "execution_count": null,
   "metadata": {
    "collapsed": false
   },
   "outputs": [],
   "source": [
    "#Displays the outcome of the model fit\n",
    "print(lrmfit.summary())"
   ]
  },
  {
   "cell_type": "code",
   "execution_count": null,
   "metadata": {
    "collapsed": false
   },
   "outputs": [],
   "source": [
    "#Creates a scatter plot of 'Sales' as a function of 'TV' and adds the prediction of the model above\n",
    "plt.figure()\n",
    "plt.scatter(advertising.TV, advertising.Sales, color='blue')\n",
    "plt.plot(advertising.TV, lrmfit.predict(), color='red',linewidth=3)\n",
    "plt.xlabel('TV')\n",
    "plt.ylabel('Sales')\n",
    "plt.legend(['Fit','Raw Data'])"
   ]
  },
  {
   "cell_type": "code",
   "execution_count": null,
   "metadata": {
    "collapsed": false
   },
   "outputs": [],
   "source": [
    "#Create a histogram of the model residuals\n",
    "plt.hist(lrmfit.resid)"
   ]
  },
  {
   "cell_type": "code",
   "execution_count": null,
   "metadata": {
    "collapsed": true,
    "nbpresent": {
     "id": "482a464c-41c4-4f43-bccf-6f5f1a05e754"
    }
   },
   "outputs": [],
   "source": [
    "#Fit a linear regression model with all covariates\n",
    "mlrmfit = smf.ols('Sales ~ TV + Radio + Newspaper',data=advertising).fit()"
   ]
  },
  {
   "cell_type": "code",
   "execution_count": null,
   "metadata": {
    "collapsed": false,
    "nbpresent": {
     "id": "3dd6e4e1-6723-4a9e-87da-1a89d6b583be"
    }
   },
   "outputs": [],
   "source": [
    "#Displays the outcome of the model\n",
    "print(mlrmfit.summary())"
   ]
  },
  {
   "cell_type": "code",
   "execution_count": null,
   "metadata": {
    "collapsed": false
   },
   "outputs": [],
   "source": [
    "#Obtain the prediction for a new test set\n",
    "test_TV=100+np.random.randn(10,1)*20\n",
    "test_Radio=25+np.random.randn(10,1)*10\n",
    "test_Newspaper=50+np.random.randn(10,1)*10\n",
    "test_set=np.concatenate((test_TV,test_Radio,test_Newspaper),axis=1)\n",
    "test_set=pd.DataFrame(test_set,columns=['TV','Radio','Newspaper'])\n",
    "mlrmfit.predict(test_set)"
   ]
  }
 ],
 "metadata": {
  "anaconda-cloud": {},
  "kernelspec": {
   "display_name": "Python [conda root]",
   "language": "python",
   "name": "conda-root-py"
  },
  "language_info": {
   "codemirror_mode": {
    "name": "ipython",
    "version": 3
   },
   "file_extension": ".py",
   "mimetype": "text/x-python",
   "name": "python",
   "nbconvert_exporter": "python",
   "pygments_lexer": "ipython3",
   "version": "3.5.3"
  },
  "nbpresent": {
   "slides": {
    "8ce21dab-2b7a-439c-8f0a-8a1036a1ac0d": {
     "id": "8ce21dab-2b7a-439c-8f0a-8a1036a1ac0d",
     "prev": null,
     "regions": {
      "d8401624-efe9-4853-a676-de863b4ba3cd": {
       "attrs": {
        "height": 1,
        "width": 1,
        "x": 0,
        "y": 0
       },
       "id": "d8401624-efe9-4853-a676-de863b4ba3cd"
      }
     },
     "theme": null
    }
   },
   "themes": {}
  }
 },
 "nbformat": 4,
 "nbformat_minor": 1
}
