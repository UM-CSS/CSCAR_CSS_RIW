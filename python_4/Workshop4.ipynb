{
 "cells": [
  {
   "cell_type": "markdown",
   "metadata": {
    "nbpresent": {
     "id": "f77e2465-07f3-4ad0-ab0b-970cc19da161"
    }
   },
   "source": [
    "# <center> DATA SCIENCE WITH SOCIAL SCIENCE DATA <br/><br/> CSCAR WORKSHOP <br/><br/> 04/06/2017\n",
    "## <center> Marcio Mourao and Jeff Lockhart\n"
   ]
  },
  {
   "cell_type": "markdown",
   "metadata": {},
   "source": [
    "# <center> Setup for Anaconda / Jupyter Notebook\n",
    "\n",
    "<ul>\n",
    "    <li>Go to the page https://marcio-mourao.github.io/</li>\n",
    "    <li>Download the materials under \"Social Data Science - Part IV\" to your \"username/Documents\"</li><br/>\n",
    "    \n",
    "    <li>Click the Windows button (Bottom Left Corner)</li>\n",
    "    <li>Click \"All apps\"</li>\n",
    "    <li>Click \"Anaconda3 (64-bit)\"</li>\n",
    "    <li>Click \"Anaconda Prompt\" </li>\n",
    "    <ul>\n",
    "        <li>Enter \"conda update pandas\"</li>\n",
    "        <li>Enter \"conda update matplotlib\"</li>\n",
    "        <li>Enter \"conda update scikit-learn\"</li>\n",
    "    </ul><br/>\n",
    "    \n",
    "    <li>Click the Windows button (Bottom Left Corner)</li>\n",
    "    <li>Click \"All apps\"</li>\n",
    "    <li>Click \"Anaconda3 (64-bit)\"</li>\n",
    "    <li>Click \"Jupyter Notebook\" </li><br/>\n",
    "    \n",
    "    <li>Click \"Workshop.ipynb\" (this should open a new tab in the browser)</li>\n",
    "</ul>"
   ]
  },
  {
   "cell_type": "markdown",
   "metadata": {},
   "source": [
    "# <center> Introduction\n",
    "\n",
    "<ul>\n",
    "  <li>Please, sign up the sheet! </li>\n",
    "  <li>Don't forget to go to: http://cscar.research.umich.edu/ to know what we're offering!</li>\n",
    "</ul>"
   ]
  },
  {
   "cell_type": "markdown",
   "metadata": {},
   "source": [
    "# <center> Summary of this workshop\n",
    "\n",
    "<ul>\n",
    "  <li>Review on simple and structured Python data types</li>\n",
    "  <li>Creating dataframes, describing and looking for 'missing values' in data</li>\n",
    "  <li>Indexing and slicing</li>\n",
    "  <li>Apply functions, groupby and sort data</li>\n",
    "  <li>Visualization</li>\n",
    "  <li>Logistic Regression</li>\n",
    "  <li>Random Forests</li>\n",
    "</ul>\n",
    "\n"
   ]
  },
  {
   "cell_type": "markdown",
   "metadata": {},
   "source": [
    "# <center> References\n",
    "\n",
    "<ul>\n",
    "  <li>https://www.continuum.io/anaconda-overview</li>\n",
    "  <li>http://www.numpy.org/</li>\n",
    "  <li>http://pandas.pydata.org/pandas-docs/stable/generated/pandas.DataFrame.html</li>\n",
    "  <li>http://matplotlib.org/</li>\n",
    "  <li>http://pandas.pydata.org/pandas-docs/stable/10min.html</li>\n",
    "  <li>http://scikit-learn.org/stable/</li>\n",
    "  <li>http://statsmodels.sourceforge.net/</li>\n",
    "</ul>"
   ]
  },
  {
   "cell_type": "code",
   "execution_count": null,
   "metadata": {
    "collapsed": false
   },
   "outputs": [],
   "source": [
    "#Check Python version\n",
    "import sys\n",
    "print(sys.version)"
   ]
  },
  {
   "cell_type": "markdown",
   "metadata": {},
   "source": [
    "## Import relevant modules"
   ]
  },
  {
   "cell_type": "code",
   "execution_count": null,
   "metadata": {
    "collapsed": false
   },
   "outputs": [],
   "source": [
    "%matplotlib inline\n",
    "import numpy as np\n",
    "#from numpy import * #another way of importing but I prefer the above\n",
    "import pandas as pd\n",
    "import matplotlib.pyplot as plt"
   ]
  },
  {
   "cell_type": "code",
   "execution_count": null,
   "metadata": {
    "collapsed": false
   },
   "outputs": [],
   "source": [
    "#Check numpy and pandas version\n",
    "print(np.__version__)\n",
    "print(pd.__version__)"
   ]
  },
  {
   "cell_type": "markdown",
   "metadata": {},
   "source": [
    "## Python Simple Data Types\n",
    "##### Integers\n",
    "##### Floats\n",
    "##### Strings\n",
    "##### Booleans"
   ]
  },
  {
   "cell_type": "markdown",
   "metadata": {},
   "source": [
    "## Python Data Structures"
   ]
  },
  {
   "cell_type": "markdown",
   "metadata": {},
   "source": [
    "### Lists"
   ]
  },
  {
   "cell_type": "code",
   "execution_count": null,
   "metadata": {
    "collapsed": false
   },
   "outputs": [],
   "source": [
    "example_list = [2,4,'fg',8,[3,4]]\n",
    "print(example_list)\n",
    "print(example_list[0])\n",
    "print(example_list[2:4])\n",
    "print(example_list[-2])\n",
    "example_list[2]=20\n",
    "print(example_list)\n",
    "print(example_list[4][0])"
   ]
  },
  {
   "cell_type": "markdown",
   "metadata": {},
   "source": [
    "### Tuples"
   ]
  },
  {
   "cell_type": "code",
   "execution_count": null,
   "metadata": {
    "collapsed": false
   },
   "outputs": [],
   "source": [
    "example_tuple = (2,4,6,8,10)\n",
    "print(example_tuple)\n",
    "print(example_tuple[1])\n",
    "#example_tuple[2]=20 #this should produce an error"
   ]
  },
  {
   "cell_type": "markdown",
   "metadata": {},
   "source": [
    "### Dictionary"
   ]
  },
  {
   "cell_type": "code",
   "execution_count": null,
   "metadata": {
    "collapsed": false
   },
   "outputs": [],
   "source": [
    "example_dictionary = {'A':20,'B':40,'C':60}\n",
    "print(example_dictionary)\n",
    "print(example_dictionary['B'])\n",
    "example_dictionary['C']=100\n",
    "print(example_dictionary)\n",
    "print(example_dictionary.keys())\n",
    "print(example_dictionary.values())"
   ]
  },
  {
   "cell_type": "markdown",
   "metadata": {},
   "source": [
    "### Numpy arrays"
   ]
  },
  {
   "cell_type": "code",
   "execution_count": null,
   "metadata": {
    "collapsed": false
   },
   "outputs": [],
   "source": [
    "example_array = np.array([2,4,'dfg',8,10])\n",
    "print(example_array)\n",
    "print(example_array[0])\n",
    "print(example_array[2:4])\n",
    "print(example_array[-2])\n",
    "example_array[2]=20\n",
    "print(example_array)"
   ]
  },
  {
   "cell_type": "markdown",
   "metadata": {},
   "source": [
    "### Pandas Series, a one dimensional labeled array"
   ]
  },
  {
   "cell_type": "code",
   "execution_count": null,
   "metadata": {
    "collapsed": false
   },
   "outputs": [],
   "source": [
    "example_dictionary = {'A':20,'B':40,'C':60}\n",
    "example_series = pd.Series(example_dictionary)\n",
    "print(example_series)\n",
    "print(example_series[0])\n",
    "print(example_series['B':])"
   ]
  },
  {
   "cell_type": "markdown",
   "metadata": {},
   "source": [
    "### Pandas Dataframes, a two-dimensional labeled data structure with columns of potentially different types"
   ]
  },
  {
   "cell_type": "code",
   "execution_count": null,
   "metadata": {
    "collapsed": false
   },
   "outputs": [],
   "source": [
    "d=[['df',1.0],\n",
    "   ['as',3],\n",
    "   ['bq',5]]\n",
    "example_series = pd.DataFrame(d,index=['Row1','Row2','Row3'],columns=['Column1','Column2'])\n",
    "print(example_series)\n",
    "example_series.dtypes"
   ]
  },
  {
   "cell_type": "markdown",
   "metadata": {},
   "source": [
    "# <center> Description of the data"
   ]
  },
  {
   "cell_type": "markdown",
   "metadata": {},
   "source": [
    "This data was extracted from the 1994 Census bureau database by Ronny Kohavi and Barry Becker (Data Mining and Visualization, Silicon Graphics). A set of reasonably clean records was extracted using the following conditions: ((AAGE>16) && (AGI>100) && (AFNLWGT>1) && (HRSWK>0)). The prediction task is to determine whether a person makes over $50K a year.\n",
    "\n",
    "Attributes:\n",
    "\n",
    ">50K, <=50K\n",
    "\n",
    "age: continuous\n",
    "\n",
    "workclass: Private, Self-emp-not-inc, Self-emp-inc, Federal-gov, Local-gov, State-gov, Without-pay, Never-worked\n",
    "\n",
    "fnlwgt: continuous\n",
    "\n",
    "education: Bachelors, Some-college, 11th, HS-grad, Prof-school, Assoc-acdm, Assoc-voc, 9th, 7th-8th, 12th, Masters, 1st-4th, 10th, Doctorate, 5th-6th, Preschool\n",
    "\n",
    "education-num: continuous\n",
    "\n",
    "marital-status: Married-civ-spouse, Divorced, Never-married, Separated, Widowed, Married-spouse-absent, Married-AF-spouse\n",
    "\n",
    "occupation: Tech-support, Craft-repair, Other-service, Sales, Exec-managerial, Prof-specialty, Handlers-cleaners, Machine-op-inspct, Adm-clerical, Farming-fishing, Transport-moving, Priv-house-serv, Protective-serv, Armed-Forces\n",
    "\n",
    "relationship: Wife, Own-child, Husband, Not-in-family, Other-relative, Unmarried\n",
    "\n",
    "race: White, Asian-Pac-Islander, Amer-Indian-Eskimo, Other, Black\n",
    "\n",
    "sex: Female, Male\n",
    "\n",
    "capital-gain: continuous\n",
    "\n",
    "capital-loss: continuous\n",
    "\n",
    "hours-per-week: continuous\n",
    "\n",
    "native-country: United-States, Cambodia, England, Puerto-Rico, Canada, Germany, Outlying-US(Guam-USVI-etc), India, Japan, Greece, South, China, Cuba, Iran, Honduras, Philippines, Italy, Poland, Jamaica, Vietnam, Mexico, Portugal, Ireland, France, Dominican-Republic, Laos, Ecuador, Taiwan, Haiti, Columbia, Hungary, Guatemala, Nicaragua, Scotland, Thailand, Yugoslavia, El-Salvador, Trinadad&Tobago, Peru, Hong, Holand-Netherlands"
   ]
  },
  {
   "cell_type": "markdown",
   "metadata": {},
   "source": [
    "## Create a dataframe, describe and look for missing data"
   ]
  },
  {
   "cell_type": "code",
   "execution_count": null,
   "metadata": {
    "collapsed": false
   },
   "outputs": [],
   "source": [
    "#Displays the signature of the function\n",
    "?pd.read_csv"
   ]
  },
  {
   "cell_type": "code",
   "execution_count": null,
   "metadata": {
    "collapsed": false,
    "nbpresent": {
     "id": "1862e15b-a819-4062-93a3-b68d3f0a0865"
    }
   },
   "outputs": [],
   "source": [
    "#Creates a dataframe named \"adults\" from reading the file \"adult.csv\"\n",
    "adults = pd.read_csv('adult.csv',na_values=['?'])\n",
    "adults.head()"
   ]
  },
  {
   "cell_type": "code",
   "execution_count": null,
   "metadata": {
    "collapsed": false
   },
   "outputs": [],
   "source": [
    "#Displays number of lines and number of columns of the dataframe\n",
    "adults.shape"
   ]
  },
  {
   "cell_type": "code",
   "execution_count": null,
   "metadata": {
    "collapsed": false
   },
   "outputs": [],
   "source": [
    "#Convert object dtypes to category dtypes\n",
    "adults[adults.select_dtypes(['object']).columns] = adults.select_dtypes(['object']).apply(lambda x: x.astype('category'))\n",
    "adults.head()"
   ]
  },
  {
   "cell_type": "code",
   "execution_count": null,
   "metadata": {
    "collapsed": false
   },
   "outputs": [],
   "source": [
    "#Displays the data types associated with each dataframe column\n",
    "adults.dtypes"
   ]
  },
  {
   "cell_type": "code",
   "execution_count": null,
   "metadata": {
    "collapsed": false
   },
   "outputs": [],
   "source": [
    "#Display categories for the 'workclass categorical\n",
    "adults.workclass.cat.categories"
   ]
  },
  {
   "cell_type": "code",
   "execution_count": null,
   "metadata": {
    "collapsed": false
   },
   "outputs": [],
   "source": [
    "#Describes the dataframe\n",
    "adults.describe()"
   ]
  },
  {
   "cell_type": "code",
   "execution_count": null,
   "metadata": {
    "collapsed": false,
    "scrolled": true
   },
   "outputs": [],
   "source": [
    "#Describes everything in the dataframe\n",
    "adults.describe(include='all')"
   ]
  },
  {
   "cell_type": "code",
   "execution_count": null,
   "metadata": {
    "collapsed": false,
    "nbpresent": {
     "id": "61b8eb03-4209-4149-bd6d-dd930fd1bde1"
    },
    "scrolled": true
   },
   "outputs": [],
   "source": [
    "#Displays whether columns contain any null values\n",
    "adults.isnull().any(axis=0)"
   ]
  },
  {
   "cell_type": "code",
   "execution_count": null,
   "metadata": {
    "collapsed": false
   },
   "outputs": [],
   "source": [
    "#Count the number of missing values in each column of the dataframe\n",
    "adults.apply(lambda x: sum(x.isnull()),axis=0)"
   ]
  },
  {
   "cell_type": "code",
   "execution_count": null,
   "metadata": {
    "collapsed": false
   },
   "outputs": [],
   "source": [
    "#Count the number of missing values in each column of the dataframe and sums them up\n",
    "adults.apply(lambda x: sum(x.isnull()),axis=0).sum()"
   ]
  },
  {
   "cell_type": "code",
   "execution_count": null,
   "metadata": {
    "collapsed": false
   },
   "outputs": [],
   "source": [
    "#Count number of lines with NaNs\n",
    "adults.apply(lambda x: x.isnull().any(),axis=1).sum()"
   ]
  },
  {
   "cell_type": "code",
   "execution_count": null,
   "metadata": {
    "collapsed": false
   },
   "outputs": [],
   "source": [
    "#Fraction of observations with NaNs (potentially for removal)\n",
    "2399/adults.shape[0]"
   ]
  },
  {
   "cell_type": "code",
   "execution_count": null,
   "metadata": {
    "collapsed": false
   },
   "outputs": [],
   "source": [
    "#Removes any lines from the dataframe that contains NaNs \n",
    "adults=adults.dropna(axis=0,how='any')\n",
    "adults.head()"
   ]
  },
  {
   "cell_type": "code",
   "execution_count": null,
   "metadata": {
    "collapsed": false
   },
   "outputs": [],
   "source": [
    "#Displays number of lines and number of columns of the dataframe\n",
    "adults.shape"
   ]
  },
  {
   "cell_type": "code",
   "execution_count": null,
   "metadata": {
    "collapsed": false
   },
   "outputs": [],
   "source": [
    "#Just confirming the removal was successful\n",
    "30162+2399"
   ]
  },
  {
   "cell_type": "markdown",
   "metadata": {},
   "source": [
    "## Indexing and Slicing"
   ]
  },
  {
   "cell_type": "code",
   "execution_count": null,
   "metadata": {
    "collapsed": false,
    "nbpresent": {
     "id": "ba4ad056-9582-41c1-8be5-fdc14d755642"
    }
   },
   "outputs": [],
   "source": [
    "#Displays the first rows of the dataframe\n",
    "adults[:5]"
   ]
  },
  {
   "cell_type": "code",
   "execution_count": null,
   "metadata": {
    "collapsed": false,
    "nbpresent": {
     "id": "c128b972-06c0-423d-a7b0-3faf2a3879c0"
    }
   },
   "outputs": [],
   "source": [
    "#Displays the first rows of the dataframe\n",
    "adults.head()"
   ]
  },
  {
   "cell_type": "code",
   "execution_count": null,
   "metadata": {
    "collapsed": false,
    "nbpresent": {
     "id": "2f36e2c9-d552-4283-8447-989f1ee51eea"
    }
   },
   "outputs": [],
   "source": [
    "#Displays the last rows of the dataframe\n",
    "adults[::-1].head()"
   ]
  },
  {
   "cell_type": "code",
   "execution_count": null,
   "metadata": {
    "collapsed": false,
    "nbpresent": {
     "id": "a5f6ec90-c63a-4bf1-8581-21f64bd0d0a1"
    }
   },
   "outputs": [],
   "source": [
    "#Same as above, but returns a numpy array of values\n",
    "adults[::-1].head().values"
   ]
  },
  {
   "cell_type": "code",
   "execution_count": null,
   "metadata": {
    "collapsed": false,
    "nbpresent": {
     "id": "625e7e6f-bb67-4946-b43b-6f4085f64319"
    }
   },
   "outputs": [],
   "source": [
    "#From the dataframe, retrive rows in position (integer based index) 2 and 3 and columns in location 0\n",
    "adults.iloc[2:4,0]"
   ]
  },
  {
   "cell_type": "code",
   "execution_count": null,
   "metadata": {
    "collapsed": false,
    "nbpresent": {
     "id": "b92db07c-d63b-4095-ad7e-d9d7a554a74e"
    }
   },
   "outputs": [],
   "source": [
    "#From the dataframe, retrieve rows with labels 2, 3 and 4 and column 'TV'\n",
    "adults.loc[2:4,'education']"
   ]
  },
  {
   "cell_type": "code",
   "execution_count": null,
   "metadata": {
    "collapsed": false,
    "nbpresent": {
     "id": "e2deb9b5-6f70-46fc-b4d1-8edcba778ed6"
    }
   },
   "outputs": [],
   "source": [
    "#From the dataframe, retrive rows with labels 2, 3 and 4 and columns 'TV' and 'Sales'\n",
    "adults.ix[2:4,['age','education']]\n",
    "#advertising.ix[2:4,[0,3]] #Another way of getting the slice, but I prefer the above"
   ]
  },
  {
   "cell_type": "code",
   "execution_count": null,
   "metadata": {
    "collapsed": false,
    "nbpresent": {
     "id": "f4b33c37-6314-48d4-99f1-bcfb1cb5701a"
    }
   },
   "outputs": [],
   "source": [
    "#Retrieves a boolean series with True values wherever age is lower than 50\n",
    "adults['age']<50"
   ]
  },
  {
   "cell_type": "code",
   "execution_count": null,
   "metadata": {
    "collapsed": false,
    "nbpresent": {
     "id": "c6049f8e-3a66-4957-990a-84ce3df01384"
    }
   },
   "outputs": [],
   "source": [
    "#Returns a subsection of the dataframe where age of adults are lower than 50\n",
    "adults[adults['age']<50]\n",
    "adults.head()"
   ]
  },
  {
   "cell_type": "markdown",
   "metadata": {},
   "source": [
    "## Apply functions, Groupby and Sort data"
   ]
  },
  {
   "cell_type": "code",
   "execution_count": null,
   "metadata": {
    "collapsed": false
   },
   "outputs": [],
   "source": [
    "#Returns the mean of each one of the numerical columns on the dataframe\n",
    "adults.mean(axis=0)"
   ]
  },
  {
   "cell_type": "code",
   "execution_count": null,
   "metadata": {
    "collapsed": false
   },
   "outputs": [],
   "source": [
    "#Returns the mean of hours per week\n",
    "adults['hours.per.week'].mean()"
   ]
  },
  {
   "cell_type": "code",
   "execution_count": null,
   "metadata": {
    "collapsed": false
   },
   "outputs": [],
   "source": [
    "#Returns the mean and the std for each of the selected columns (age and # education years)\n",
    "adults[['age','education.num']].apply(lambda x: ([x.mean(),x.std()]),axis=0)"
   ]
  },
  {
   "cell_type": "code",
   "execution_count": null,
   "metadata": {
    "collapsed": false
   },
   "outputs": [],
   "source": [
    "#Groups the data by 'income and obtains the mean of each column for each group\n",
    "adults.groupby('income').count()"
   ]
  },
  {
   "cell_type": "code",
   "execution_count": null,
   "metadata": {
    "collapsed": false
   },
   "outputs": [],
   "source": [
    "#Groups the data by 'native.country and obtains only the average 'hours.per.week\n",
    "adults[['native.country','hours.per.week']].groupby('native.country').mean()"
   ]
  },
  {
   "cell_type": "code",
   "execution_count": null,
   "metadata": {
    "collapsed": false
   },
   "outputs": [],
   "source": [
    "#Groups the data by 'native.country and obtains the max 'hours.per.week\n",
    "adults[['native.country','hours.per.week']].groupby('native.country').max()"
   ]
  },
  {
   "cell_type": "code",
   "execution_count": null,
   "metadata": {
    "collapsed": false
   },
   "outputs": [],
   "source": [
    "#Groups the data by 'income and 'marital status', and obtains the mean of each column for each group\n",
    "adults.groupby(['income','marital.status']).mean()"
   ]
  },
  {
   "cell_type": "code",
   "execution_count": null,
   "metadata": {
    "collapsed": false
   },
   "outputs": [],
   "source": [
    "#Groups specified data by 'sex and 'income, and obtains a mean for the # education years\n",
    "adults[['income','sex','education.num']].groupby(['sex','income']).mean()"
   ]
  },
  {
   "cell_type": "code",
   "execution_count": null,
   "metadata": {
    "collapsed": false
   },
   "outputs": [],
   "source": [
    "#Sorts the data by age and # education years in a specified order\n",
    "adults.sort_values(by=['age','education.num'],ascending=[True,False]).head(10)"
   ]
  },
  {
   "cell_type": "markdown",
   "metadata": {},
   "source": [
    "## Visualization"
   ]
  },
  {
   "cell_type": "code",
   "execution_count": null,
   "metadata": {
    "collapsed": false
   },
   "outputs": [],
   "source": [
    "#Creates a histogram of 'age' and 'education.num' and 'hours.per.week' on the dataframe\n",
    "adults.hist(column=['age','education.num','hours.per.week'],grid='off')"
   ]
  },
  {
   "cell_type": "code",
   "execution_count": null,
   "metadata": {
    "collapsed": false
   },
   "outputs": [],
   "source": [
    "#Creates a histogram for 'age' grouped by 'income'\n",
    "adults.hist(column='age',by='income')"
   ]
  },
  {
   "cell_type": "code",
   "execution_count": null,
   "metadata": {
    "collapsed": false
   },
   "outputs": [],
   "source": [
    "#Creates a histogram of 'age' grouped by 'income'\n",
    "adults.groupby('income').hist(column='age',grid='off')"
   ]
  },
  {
   "cell_type": "code",
   "execution_count": null,
   "metadata": {
    "collapsed": false
   },
   "outputs": [],
   "source": [
    "#Displays the histograms of 'age' grouped by 'income' in the same plot\n",
    "plt.rcParams.update({'font.size': 20})\n",
    "plt.figure()\n",
    "adults.groupby('income').age.hist(alpha=0.5)\n",
    "plt.legend(labels=['<=50K','>50K'],loc='best')\n",
    "plt.xlabel('Age')\n",
    "plt.ylabel('Frequency')\n",
    "plt.grid('off')"
   ]
  },
  {
   "cell_type": "markdown",
   "metadata": {
    "collapsed": true
   },
   "source": [
    "## Machine Learning"
   ]
  },
  {
   "cell_type": "code",
   "execution_count": null,
   "metadata": {
    "collapsed": false
   },
   "outputs": [],
   "source": [
    "#Import modules\n",
    "from sklearn.linear_model import LogisticRegression \n",
    "from sklearn.ensemble import RandomForestClassifier\n",
    "from sklearn.model_selection import train_test_split, KFold, cross_val_score\n",
    "from sklearn.preprocessing import LabelEncoder\n",
    "from sklearn import metrics"
   ]
  },
  {
   "cell_type": "code",
   "execution_count": null,
   "metadata": {
    "collapsed": false
   },
   "outputs": [],
   "source": [
    "#Creates a label encoder object\n",
    "le=LabelEncoder()\n",
    "\n",
    "adults2=adults.copy()\n",
    "\n",
    "#Defines an encoder function that is applicable to all columns\n",
    "def my_encoder(col):\n",
    "    adults2[col.name + '_enc']=le.fit(col.values).transform(col.values)\n",
    "\n",
    "#Apply encoder to all object columns\n",
    "adults2[adults.select_dtypes(include=['category']).columns.values].apply(my_encoder,axis=0)\n",
    "adults2.head()"
   ]
  },
  {
   "cell_type": "code",
   "execution_count": null,
   "metadata": {
    "collapsed": false
   },
   "outputs": [],
   "source": [
    "#Check new data types\n",
    "adults2.dtypes"
   ]
  },
  {
   "cell_type": "code",
   "execution_count": null,
   "metadata": {
    "collapsed": false
   },
   "outputs": [],
   "source": [
    "#Define covariates in X and dependent variable in y\n",
    "X = adults2[['age','workclass_enc','education.num','marital.status_enc','occupation_enc',\n",
    "            'race_enc','sex_enc','relationship_enc','capital.gain','capital.loss',\n",
    "            'hours.per.week','native.country_enc']]\n",
    "y = adults2.income_enc"
   ]
  },
  {
   "cell_type": "code",
   "execution_count": null,
   "metadata": {
    "collapsed": false
   },
   "outputs": [],
   "source": [
    "#Obtain the data for the fitting\n",
    "X_train, X_test, y_train, y_test = train_test_split(X, y, random_state=13)\n",
    "\n",
    "print('Total number of records: ', adults2.shape[0])\n",
    "print('Type of X_train: ', type(X_train))\n",
    "print('Number of records in X_train: ', len(X_train))\n",
    "print('Fraction on X_train: ', len(X_train)/adults2.shape[0])\n",
    "print('Number of records in y_train: ', len(y_train))\n",
    "print('Type of y_train: \\n\\n', type(y_train))\n",
    "\n",
    "print('Type of X_test: ', type(X_test))\n",
    "print('Number of records in X_test: ', len(X_test))\n",
    "print('Fraction on X_test: ', len(X_test)/adults2.shape[0])\n",
    "print('Number of records in y_test: ', len(y_test))\n",
    "print('Type of y_test: ', type(y_test))"
   ]
  },
  {
   "cell_type": "markdown",
   "metadata": {},
   "source": [
    "### Logistic Regression"
   ]
  },
  {
   "cell_type": "code",
   "execution_count": null,
   "metadata": {
    "collapsed": false
   },
   "outputs": [],
   "source": [
    "#Creates a logistic regression object\n",
    "logreg_model = LogisticRegression()\n",
    "\n",
    "#Fit to the data\n",
    "logreg_model.fit(X_train, y_train)\n",
    "\n",
    "print('Intercept: \\n', logreg_model.intercept_)\n",
    "print('Coefficients: \\n', logreg_model.coef_)"
   ]
  },
  {
   "cell_type": "code",
   "execution_count": null,
   "metadata": {
    "collapsed": false
   },
   "outputs": [],
   "source": [
    "#Obtain class predictions\n",
    "y_pred_logreg_prob = logreg_model.predict_proba(X_test)\n",
    "print('Predicted probabilities: \\n', y_pred_logreg_prob)\n",
    "\n",
    "#Obtain probability predictions\n",
    "y_pred_logreg_class = logreg_model.predict(X_test)\n",
    "print('Predicted classes: \\n', y_pred_logreg_class)"
   ]
  },
  {
   "cell_type": "code",
   "execution_count": null,
   "metadata": {
    "collapsed": false,
    "scrolled": true
   },
   "outputs": [],
   "source": [
    "#Obtains accuracy score\n",
    "print('LogReg score: ', metrics.accuracy_score(y_test, y_pred_logreg_class))"
   ]
  },
  {
   "cell_type": "code",
   "execution_count": null,
   "metadata": {
    "collapsed": false
   },
   "outputs": [],
   "source": [
    "#Obtains confusion matrix\n",
    "LogReg_CM=metrics.confusion_matrix(y_test,y_pred_logreg_class)\n",
    "LogReg_CM"
   ]
  },
  {
   "cell_type": "code",
   "execution_count": null,
   "metadata": {
    "collapsed": false
   },
   "outputs": [],
   "source": [
    "#Confirming accuracy\n",
    "print('Number of elements in the test set: ', len(y_test))\n",
    "print('Accuracy: ', (LogReg_CM[0,0]+LogReg_CM[1,1])/len(y_test))"
   ]
  },
  {
   "cell_type": "code",
   "execution_count": null,
   "metadata": {
    "collapsed": false
   },
   "outputs": [],
   "source": [
    "#KFolds and Cross_val_scores\n",
    "kf = KFold(n_splits=10, shuffle=True)\n",
    "print('Cross validation score: ', cross_val_score(logreg_model, X, y, cv=kf).mean())"
   ]
  },
  {
   "cell_type": "markdown",
   "metadata": {},
   "source": [
    "### Random Forest"
   ]
  },
  {
   "cell_type": "code",
   "execution_count": null,
   "metadata": {
    "collapsed": false
   },
   "outputs": [],
   "source": [
    "#Creates a RF classification model\n",
    "RF_model = RandomForestClassifier(n_estimators=10, criterion='gini')\n",
    "\n",
    "#Fit to the data\n",
    "RF_model.fit(X_train, y_train)"
   ]
  },
  {
   "cell_type": "code",
   "execution_count": null,
   "metadata": {
    "collapsed": false
   },
   "outputs": [],
   "source": [
    "#Obtain class predictions\n",
    "y_pred_RF_prob = RF_model.predict_proba(X_test)\n",
    "print('Predicted probabilities: \\n', y_pred_RF_prob)\n",
    "\n",
    "#Obtain probability predictions\n",
    "y_pred_RF_class = RF_model.predict(X_test)\n",
    "print('Predicted classes: \\n', y_pred_RF_class)"
   ]
  },
  {
   "cell_type": "code",
   "execution_count": null,
   "metadata": {
    "collapsed": false
   },
   "outputs": [],
   "source": [
    "#Obtains accuracy score\n",
    "print('RF Score: ', metrics.accuracy_score(y_test, y_pred_RF_class))"
   ]
  },
  {
   "cell_type": "code",
   "execution_count": null,
   "metadata": {
    "collapsed": false
   },
   "outputs": [],
   "source": [
    "#Obtains confusion matrix\n",
    "RF_cm=metrics.confusion_matrix(y_test,y_pred_RF_class)\n",
    "RF_cm"
   ]
  },
  {
   "cell_type": "code",
   "execution_count": null,
   "metadata": {
    "collapsed": false
   },
   "outputs": [],
   "source": [
    "#Confirming accuracy\n",
    "print('Number of elements in the test set: ', len(y_test))\n",
    "print('Accuracy: ', (RF_cm[0,0]+RF_cm[1,1])/len(y_test))"
   ]
  },
  {
   "cell_type": "code",
   "execution_count": null,
   "metadata": {
    "collapsed": false,
    "scrolled": true
   },
   "outputs": [],
   "source": [
    "#Capture feature importance from the RF model\n",
    "feature_imp=RF_model.feature_importances_\n",
    "\n",
    "#Create plot of feature importance\n",
    "positions = np.arange(12)\n",
    "plt.barh(positions, feature_imp, align='center')\n",
    "plt.xlabel(\"Feature Importances\")\n",
    "plt.ylabel(\"Features\")\n",
    "plt.yticks(positions, ('Age','Working Class', 'Years Education', 'Marital Status', 'Occupation',\n",
    "                       'Race', 'Sex', 'Relationship Status', 'Capital Gain', 'Capital Loss',\n",
    "                       'Hours per Week','Native Country'))\n",
    "plt.grid(True)\n"
   ]
  },
  {
   "cell_type": "code",
   "execution_count": null,
   "metadata": {
    "collapsed": false
   },
   "outputs": [],
   "source": [
    "#KFolds and Cross_val_scores\n",
    "kf = KFold(n_splits=10, shuffle=True)\n",
    "print('Cross validation score: ', cross_val_score(RF_model, X, y, cv=kf).mean())"
   ]
  }
 ],
 "metadata": {
  "anaconda-cloud": {},
  "kernelspec": {
   "display_name": "Python [conda root]",
   "language": "python",
   "name": "conda-root-py"
  },
  "language_info": {
   "codemirror_mode": {
    "name": "ipython",
    "version": 3
   },
   "file_extension": ".py",
   "mimetype": "text/x-python",
   "name": "python",
   "nbconvert_exporter": "python",
   "pygments_lexer": "ipython3",
   "version": "3.5.3"
  },
  "nbpresent": {
   "slides": {
    "8ce21dab-2b7a-439c-8f0a-8a1036a1ac0d": {
     "id": "8ce21dab-2b7a-439c-8f0a-8a1036a1ac0d",
     "prev": null,
     "regions": {
      "d8401624-efe9-4853-a676-de863b4ba3cd": {
       "attrs": {
        "height": 1,
        "width": 1,
        "x": 0,
        "y": 0
       },
       "id": "d8401624-efe9-4853-a676-de863b4ba3cd"
      }
     },
     "theme": null
    }
   },
   "themes": {}
  }
 },
 "nbformat": 4,
 "nbformat_minor": 1
}
