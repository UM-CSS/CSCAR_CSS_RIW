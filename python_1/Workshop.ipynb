{
 "cells": [
  {
   "cell_type": "markdown",
   "metadata": {
    "nbpresent": {
     "id": "f77e2465-07f3-4ad0-ab0b-970cc19da161"
    }
   },
   "source": [
    "# <center> DATA SCIENCE WITH SOCIAL SCIENCE DATA <br/><br/> CSCAR WORKSHOP <br/><br/> 01/11/2017\n",
    "## <center> Marcio Mourao and Jeff Lockhart \n"
   ]
  },
  {
   "cell_type": "markdown",
   "metadata": {},
   "source": [
    "# <center> Introduction\n",
    "\n",
    "<ul>\n",
    "  <li>Please, sign up the sheet! </li>\n",
    "  <li>Don't forget to go to: http://cscar.research.umich.edu/ to know what we're offering!</li>\n",
    "  <li>You can find materials for this workshop here: https://marcio-mourao.github.io/. </li>\n",
    "  <li>Any questions/feedback, send an email to <a href=\"mailto:mdam@umich.edu\" target=\"_top\">Marcio.</a>\n",
    "</ul>"
   ]
  },
  {
   "cell_type": "markdown",
   "metadata": {},
   "source": [
    "# <center> Summary of this workshop\n",
    "\n",
    "<ul>\n",
    "  <li>Numpy</li>\n",
    "  <li>Pandas Dataframes</li>\n",
    "  <li>Linear Regression</li>\n",
    "  <ul>\n",
    "      <li>Scikit-learn</li>\n",
    "      <li>Statsmodel</li>\n",
    "  </ul>\n",
    "</ul>\n",
    "\n"
   ]
  },
  {
   "cell_type": "markdown",
   "metadata": {},
   "source": [
    "# <center> References\n",
    "\n",
    "<ul>\n",
    "  <li>An Introduction to Statistical Learning (Springer)</li>\n",
    "  <li>http://scikit-learn.org/stable/</li>\n",
    "  <li>http://statsmodels.sourceforge.net/</li>\n",
    "</ul>"
   ]
  },
  {
   "cell_type": "markdown",
   "metadata": {},
   "source": [
    "# <center> Numpy"
   ]
  },
  {
   "cell_type": "code",
   "execution_count": null,
   "metadata": {
    "collapsed": true,
    "nbpresent": {
     "id": "56b6dfff-16a3-4ab8-b0cb-497226d0e34f"
    }
   },
   "outputs": [],
   "source": [
    "import numpy as np"
   ]
  },
  {
   "cell_type": "markdown",
   "metadata": {
    "nbpresent": {
     "id": "4afddd65-b192-49d4-a907-a1f365924449"
    }
   },
   "source": [
    "## One Dimensional Arrays\n",
    "### Creation"
   ]
  },
  {
   "cell_type": "code",
   "execution_count": null,
   "metadata": {
    "collapsed": false,
    "nbpresent": {
     "id": "4f7c1e20-42f4-421d-9bdc-b739c2ba2fc0"
    }
   },
   "outputs": [],
   "source": [
    "a = np.array([1,2,3,4,5])\n",
    "a"
   ]
  },
  {
   "cell_type": "code",
   "execution_count": null,
   "metadata": {
    "collapsed": false,
    "nbpresent": {
     "id": "d277ee53-5264-4e4c-901f-dba37d2fb7d7"
    }
   },
   "outputs": [],
   "source": [
    "a.size"
   ]
  },
  {
   "cell_type": "code",
   "execution_count": null,
   "metadata": {
    "collapsed": false,
    "nbpresent": {
     "id": "19cb5808-205b-4225-b848-b52bd43ca14e"
    }
   },
   "outputs": [],
   "source": [
    "a.ndim"
   ]
  },
  {
   "cell_type": "code",
   "execution_count": null,
   "metadata": {
    "collapsed": false,
    "nbpresent": {
     "id": "67390900-dff9-46f5-8274-0b72614551f6"
    }
   },
   "outputs": [],
   "source": [
    "a.shape"
   ]
  },
  {
   "cell_type": "code",
   "execution_count": null,
   "metadata": {
    "collapsed": false,
    "nbpresent": {
     "id": "a5cee8cd-720f-4572-a380-cd51ca65ab33"
    }
   },
   "outputs": [],
   "source": [
    "b1 = np.arange(3)\n",
    "b1"
   ]
  },
  {
   "cell_type": "code",
   "execution_count": null,
   "metadata": {
    "collapsed": false,
    "nbpresent": {
     "id": "b5bcef6d-6557-4e55-95d8-a758bd8a47f8"
    }
   },
   "outputs": [],
   "source": [
    "b2 = np.arange(3,7)\n",
    "b2"
   ]
  },
  {
   "cell_type": "code",
   "execution_count": null,
   "metadata": {
    "collapsed": false,
    "nbpresent": {
     "id": "eb639599-eafd-443e-b4a8-ea36d8805b12"
    }
   },
   "outputs": [],
   "source": [
    "b3 = np.arange(3,7,2)\n",
    "b3"
   ]
  },
  {
   "cell_type": "code",
   "execution_count": null,
   "metadata": {
    "collapsed": false,
    "nbpresent": {
     "id": "3e9c6cec-526c-4d93-b188-f8f9c6283272"
    }
   },
   "outputs": [],
   "source": [
    "c1 = np.zeros(5)\n",
    "c1"
   ]
  },
  {
   "cell_type": "code",
   "execution_count": null,
   "metadata": {
    "collapsed": false,
    "nbpresent": {
     "id": "ecf8f2a0-118e-48ab-bbc2-79d35478f82b"
    }
   },
   "outputs": [],
   "source": [
    "c2 = np.ones(3)\n",
    "c2"
   ]
  },
  {
   "cell_type": "code",
   "execution_count": null,
   "metadata": {
    "collapsed": false,
    "nbpresent": {
     "id": "2ec22ad9-7ba5-49f2-97fb-7671c620e973"
    }
   },
   "outputs": [],
   "source": [
    "c3 = np.linspace(2.0, 3.0)\n",
    "c3"
   ]
  },
  {
   "cell_type": "code",
   "execution_count": null,
   "metadata": {
    "collapsed": false,
    "nbpresent": {
     "id": "98d30d3f-de6d-45e6-8a47-4a4475e21cb4"
    }
   },
   "outputs": [],
   "source": [
    "c4 = np.linspace(2,3,10)\n",
    "c4"
   ]
  },
  {
   "cell_type": "code",
   "execution_count": null,
   "metadata": {
    "collapsed": false,
    "nbpresent": {
     "id": "ce3619d1-bbe9-4e69-9917-359b80a8e45e"
    }
   },
   "outputs": [],
   "source": [
    "c5 = np.random.rand(5)\n",
    "c5"
   ]
  },
  {
   "cell_type": "code",
   "execution_count": null,
   "metadata": {
    "collapsed": false,
    "nbpresent": {
     "id": "97ca3820-b7e7-4386-8293-0debdf8ff5a8"
    }
   },
   "outputs": [],
   "source": [
    "c6 = np.random.randn(5)\n",
    "c6"
   ]
  },
  {
   "cell_type": "code",
   "execution_count": null,
   "metadata": {
    "collapsed": false,
    "nbpresent": {
     "id": "07feff37-a4d8-42d2-9964-80efb05c8df1"
    }
   },
   "outputs": [],
   "source": [
    "c7 = 2.5 * np.random.randn(5) + 3\n",
    "c7"
   ]
  },
  {
   "cell_type": "markdown",
   "metadata": {
    "collapsed": true
   },
   "source": [
    "### Indexing and Slicing"
   ]
  },
  {
   "cell_type": "code",
   "execution_count": null,
   "metadata": {
    "collapsed": false,
    "nbpresent": {
     "id": "83795e3b-74ff-4386-bf26-84f862ac3c11"
    }
   },
   "outputs": [],
   "source": [
    "d = np.linspace(10,100,10)\n",
    "d"
   ]
  },
  {
   "cell_type": "code",
   "execution_count": null,
   "metadata": {
    "collapsed": false,
    "nbpresent": {
     "id": "e5869ad0-4a08-423b-a141-f231fb554f89"
    }
   },
   "outputs": [],
   "source": [
    "d[0]"
   ]
  },
  {
   "cell_type": "code",
   "execution_count": null,
   "metadata": {
    "collapsed": false,
    "nbpresent": {
     "id": "1b0be265-abe5-413a-a7da-e4558d79f3f9"
    }
   },
   "outputs": [],
   "source": [
    "d[2]"
   ]
  },
  {
   "cell_type": "code",
   "execution_count": null,
   "metadata": {
    "collapsed": false,
    "nbpresent": {
     "id": "3309ffde-3b08-4982-ac8e-eaadd2bacd57"
    }
   },
   "outputs": [],
   "source": [
    "d[-1]"
   ]
  },
  {
   "cell_type": "code",
   "execution_count": null,
   "metadata": {
    "collapsed": false,
    "nbpresent": {
     "id": "1bd80396-c93b-4b92-ab2f-e5419f059c13"
    }
   },
   "outputs": [],
   "source": [
    "d[-3]"
   ]
  },
  {
   "cell_type": "code",
   "execution_count": null,
   "metadata": {
    "collapsed": false,
    "nbpresent": {
     "id": "f42c0f73-437b-40d0-97ec-4cbf0a9a3d98"
    }
   },
   "outputs": [],
   "source": [
    "d[2:7]"
   ]
  },
  {
   "cell_type": "code",
   "execution_count": null,
   "metadata": {
    "collapsed": false,
    "nbpresent": {
     "id": "ae29381e-45d1-4d7e-aa9d-e54a596dae5b"
    }
   },
   "outputs": [],
   "source": [
    "d[2:7:2]"
   ]
  },
  {
   "cell_type": "code",
   "execution_count": null,
   "metadata": {
    "collapsed": false,
    "nbpresent": {
     "id": "c88737ff-b24b-46d8-a3ea-7343d173ffca"
    }
   },
   "outputs": [],
   "source": [
    "d[3:]"
   ]
  },
  {
   "cell_type": "code",
   "execution_count": null,
   "metadata": {
    "collapsed": false,
    "nbpresent": {
     "id": "9aecea23-e0b8-4a01-8f6d-520a74495e66"
    }
   },
   "outputs": [],
   "source": [
    "d[:3]"
   ]
  },
  {
   "cell_type": "code",
   "execution_count": null,
   "metadata": {
    "collapsed": false,
    "nbpresent": {
     "id": "c2be13e8-ad6a-4176-95dc-f21b7c95045d"
    }
   },
   "outputs": [],
   "source": [
    "d[:-3]"
   ]
  },
  {
   "cell_type": "code",
   "execution_count": null,
   "metadata": {
    "collapsed": false,
    "nbpresent": {
     "id": "6061a27d-9c2a-4557-bb6e-b1e1aa42fad7"
    }
   },
   "outputs": [],
   "source": [
    "d[::2]"
   ]
  },
  {
   "cell_type": "code",
   "execution_count": null,
   "metadata": {
    "collapsed": false,
    "nbpresent": {
     "id": "595c79ec-3fc5-487f-9ecc-e47a76ef112e"
    }
   },
   "outputs": [],
   "source": [
    "d[::-1]"
   ]
  },
  {
   "cell_type": "code",
   "execution_count": null,
   "metadata": {
    "collapsed": false,
    "nbpresent": {
     "id": "2fbd36d1-0a8b-4cb2-84e7-0ee3085ae093"
    }
   },
   "outputs": [],
   "source": [
    "d[2]"
   ]
  },
  {
   "cell_type": "code",
   "execution_count": null,
   "metadata": {
    "collapsed": false,
    "nbpresent": {
     "id": "03a6a786-205f-4835-b13c-3e8d35da06d5"
    }
   },
   "outputs": [],
   "source": [
    "d[2]=15\n",
    "d"
   ]
  },
  {
   "cell_type": "code",
   "execution_count": null,
   "metadata": {
    "collapsed": false,
    "nbpresent": {
     "id": "cd76b601-a9f4-4418-90c3-ab3e2c1b5008"
    }
   },
   "outputs": [],
   "source": [
    "e = np.linspace(1,5,5)\n",
    "e"
   ]
  },
  {
   "cell_type": "code",
   "execution_count": null,
   "metadata": {
    "collapsed": false,
    "nbpresent": {
     "id": "c2804e12-6e0a-4d26-8000-fa9946f400ac"
    }
   },
   "outputs": [],
   "source": [
    "np.append(e,[6,7])"
   ]
  },
  {
   "cell_type": "code",
   "execution_count": null,
   "metadata": {
    "collapsed": false,
    "nbpresent": {
     "id": "30e4fddb-48bb-4f71-bc56-41a3169c35b9"
    }
   },
   "outputs": [],
   "source": [
    "np.insert(e,2,[0.2,0.3,.4])"
   ]
  },
  {
   "cell_type": "code",
   "execution_count": null,
   "metadata": {
    "collapsed": false,
    "nbpresent": {
     "id": "25b7382b-8f16-4426-86e3-896d16c9f4ab"
    }
   },
   "outputs": [],
   "source": [
    "np.delete(e,[2,3])"
   ]
  },
  {
   "cell_type": "code",
   "execution_count": null,
   "metadata": {
    "collapsed": false,
    "nbpresent": {
     "id": "c524e272-19b9-406d-9d9f-9f04a5e52b64"
    }
   },
   "outputs": [],
   "source": [
    "e[[1,2,3,2,3,2,3]]"
   ]
  },
  {
   "cell_type": "code",
   "execution_count": null,
   "metadata": {
    "collapsed": false,
    "nbpresent": {
     "id": "871673ff-1cd6-4a77-a851-1d30b53c565c"
    }
   },
   "outputs": [],
   "source": [
    "e[[1,2]]=e[[1,2]]*10\n",
    "e"
   ]
  },
  {
   "cell_type": "code",
   "execution_count": null,
   "metadata": {
    "collapsed": false,
    "nbpresent": {
     "id": "537cb45e-46e9-4146-90b9-4dfa579923d1"
    }
   },
   "outputs": [],
   "source": [
    "e>5"
   ]
  },
  {
   "cell_type": "code",
   "execution_count": null,
   "metadata": {
    "collapsed": false,
    "nbpresent": {
     "id": "641af304-67f6-43ff-81b0-f9780c3cdf47"
    }
   },
   "outputs": [],
   "source": [
    "e[e>5]"
   ]
  },
  {
   "cell_type": "markdown",
   "metadata": {
    "collapsed": true
   },
   "source": [
    "### Exercise 1 - Modify e to contain elements greater than 4 and elements less than 30"
   ]
  },
  {
   "cell_type": "code",
   "execution_count": null,
   "metadata": {
    "collapsed": false,
    "nbpresent": {
     "id": "c2eb5ca6-ff55-44d6-821d-3d96a0299f33"
    }
   },
   "outputs": [],
   "source": [
    "e=e[(e>4) & (e<30)]\n",
    "e"
   ]
  },
  {
   "cell_type": "markdown",
   "metadata": {
    "collapsed": true
   },
   "source": [
    "## Multidimensional Arrays\n",
    "\n",
    "### Creation"
   ]
  },
  {
   "cell_type": "code",
   "execution_count": null,
   "metadata": {
    "collapsed": false,
    "nbpresent": {
     "id": "0569b72d-c387-4ddf-9035-dc395747d0bb"
    }
   },
   "outputs": [],
   "source": [
    "g1 = np.zeros((2,3))\n",
    "g1"
   ]
  },
  {
   "cell_type": "code",
   "execution_count": null,
   "metadata": {
    "collapsed": false,
    "nbpresent": {
     "id": "d7e59c69-ee61-4d1d-9347-949bd00a8450"
    }
   },
   "outputs": [],
   "source": [
    "g2 = np.ones((2,3))\n",
    "g2"
   ]
  },
  {
   "cell_type": "code",
   "execution_count": null,
   "metadata": {
    "collapsed": false,
    "nbpresent": {
     "id": "77ce3d2f-8367-4ff0-95dd-f1fc5a78a4dc"
    }
   },
   "outputs": [],
   "source": [
    "h = np.array([[1,2,3],[4,5,6],[7,8,9],[10,11,12]])\n",
    "h"
   ]
  },
  {
   "cell_type": "code",
   "execution_count": null,
   "metadata": {
    "collapsed": false,
    "nbpresent": {
     "id": "36ace4a5-0e16-4840-90bc-64feee13dc94"
    }
   },
   "outputs": [],
   "source": [
    "h.size"
   ]
  },
  {
   "cell_type": "code",
   "execution_count": null,
   "metadata": {
    "collapsed": false,
    "nbpresent": {
     "id": "df89a6eb-5ef2-4295-9edc-7e0b3930baeb"
    }
   },
   "outputs": [],
   "source": [
    "h.ndim"
   ]
  },
  {
   "cell_type": "code",
   "execution_count": null,
   "metadata": {
    "collapsed": false,
    "nbpresent": {
     "id": "7322ba79-7234-4924-ad2b-1cd62c0d3375"
    }
   },
   "outputs": [],
   "source": [
    "h.shape"
   ]
  },
  {
   "cell_type": "markdown",
   "metadata": {
    "collapsed": true
   },
   "source": [
    "### Indexing and Slicing"
   ]
  },
  {
   "cell_type": "code",
   "execution_count": null,
   "metadata": {
    "collapsed": false,
    "nbpresent": {
     "id": "0350bddd-54d7-4577-b3bb-cb0910547eeb"
    }
   },
   "outputs": [],
   "source": [
    "h[0]"
   ]
  },
  {
   "cell_type": "code",
   "execution_count": null,
   "metadata": {
    "collapsed": false,
    "nbpresent": {
     "id": "446260d9-4571-4b6d-9c70-1e7b606b1ef4"
    }
   },
   "outputs": [],
   "source": [
    "h[1]"
   ]
  },
  {
   "cell_type": "code",
   "execution_count": null,
   "metadata": {
    "collapsed": false,
    "nbpresent": {
     "id": "b081ec62-b76c-471c-a034-426f1d618c77"
    }
   },
   "outputs": [],
   "source": [
    "h[1,2]"
   ]
  },
  {
   "cell_type": "code",
   "execution_count": null,
   "metadata": {
    "collapsed": false,
    "nbpresent": {
     "id": "c27d4d28-b0f1-4333-bce9-e0d33458dfdb"
    }
   },
   "outputs": [],
   "source": [
    "h[0:,1:]"
   ]
  },
  {
   "cell_type": "code",
   "execution_count": null,
   "metadata": {
    "collapsed": false,
    "nbpresent": {
     "id": "09d42fe1-b009-4f64-9b79-2314a5af5d4c"
    }
   },
   "outputs": [],
   "source": [
    "h[:,0::2]"
   ]
  },
  {
   "cell_type": "code",
   "execution_count": null,
   "metadata": {
    "collapsed": false,
    "nbpresent": {
     "id": "900bc2a1-9de1-470b-9075-43e34090478a"
    }
   },
   "outputs": [],
   "source": [
    "h[:,1]=[20,30,40,50]\n",
    "h"
   ]
  },
  {
   "cell_type": "code",
   "execution_count": null,
   "metadata": {
    "collapsed": false,
    "nbpresent": {
     "id": "620e4bfc-2968-4883-8fdb-9c1b9619fc85"
    }
   },
   "outputs": [],
   "source": [
    "aux=np.array([[1,2,3]])\n",
    "aux.ndim"
   ]
  },
  {
   "cell_type": "code",
   "execution_count": null,
   "metadata": {
    "collapsed": false
   },
   "outputs": [],
   "source": [
    "aux.shape"
   ]
  },
  {
   "cell_type": "code",
   "execution_count": null,
   "metadata": {
    "collapsed": false,
    "nbpresent": {
     "id": "aaa849c5-d4f4-4e11-9a83-01ce40250499"
    }
   },
   "outputs": [],
   "source": [
    "np.append(h,aux)"
   ]
  },
  {
   "cell_type": "code",
   "execution_count": null,
   "metadata": {
    "collapsed": false,
    "nbpresent": {
     "id": "a759c3f2-c952-4749-84a7-088edf0c5470"
    }
   },
   "outputs": [],
   "source": [
    "np.append(h,aux,axis=0)"
   ]
  },
  {
   "cell_type": "code",
   "execution_count": null,
   "metadata": {
    "collapsed": false,
    "nbpresent": {
     "id": "9316d419-da83-4ee5-a07d-2d0b7de107a8"
    }
   },
   "outputs": [],
   "source": [
    "np.concatenate((h,aux),axis=0)"
   ]
  },
  {
   "cell_type": "code",
   "execution_count": null,
   "metadata": {
    "collapsed": false,
    "nbpresent": {
     "id": "103b3d72-4892-4ce1-85f7-41f9370b01cb"
    }
   },
   "outputs": [],
   "source": [
    "aux=np.array([[1,2,3,4]])\n",
    "aux"
   ]
  },
  {
   "cell_type": "code",
   "execution_count": null,
   "metadata": {
    "collapsed": false,
    "nbpresent": {
     "id": "848bcd25-e237-429c-a060-364ddc673a70"
    }
   },
   "outputs": [],
   "source": [
    "np.append(h,aux.T,axis=1)"
   ]
  },
  {
   "cell_type": "code",
   "execution_count": null,
   "metadata": {
    "collapsed": false,
    "nbpresent": {
     "id": "18280f42-e9c2-47a7-8e34-e127d4e2a4d4"
    }
   },
   "outputs": [],
   "source": [
    "np.concatenate((h,aux.T),axis=1)"
   ]
  },
  {
   "cell_type": "code",
   "execution_count": null,
   "metadata": {
    "collapsed": false
   },
   "outputs": [],
   "source": [
    "h"
   ]
  },
  {
   "cell_type": "code",
   "execution_count": null,
   "metadata": {
    "collapsed": false,
    "nbpresent": {
     "id": "ff664bfb-1c05-4fa7-b955-8f696b65e094"
    }
   },
   "outputs": [],
   "source": [
    "h>15"
   ]
  },
  {
   "cell_type": "code",
   "execution_count": null,
   "metadata": {
    "collapsed": false,
    "nbpresent": {
     "id": "26bd6232-562d-4402-ba68-53242cb5eee5"
    }
   },
   "outputs": [],
   "source": [
    "aux2=h[h>15]\n",
    "aux2"
   ]
  },
  {
   "cell_type": "code",
   "execution_count": null,
   "metadata": {
    "collapsed": false
   },
   "outputs": [],
   "source": [
    "aux3=np.where(h>15)\n",
    "aux3"
   ]
  },
  {
   "cell_type": "code",
   "execution_count": null,
   "metadata": {
    "collapsed": false
   },
   "outputs": [],
   "source": [
    "h[aux3]"
   ]
  },
  {
   "cell_type": "markdown",
   "metadata": {
    "collapsed": true
   },
   "source": [
    "### Exercise 2 - Retrieve from h a bidimensional array with the elements 4,7,6,9"
   ]
  },
  {
   "cell_type": "code",
   "execution_count": null,
   "metadata": {
    "collapsed": false,
    "nbpresent": {
     "id": "9fbeed63-cc39-4434-b25c-10e92fa1bce5"
    }
   },
   "outputs": [],
   "source": [
    "h[1:3,0:3:2]"
   ]
  },
  {
   "cell_type": "markdown",
   "metadata": {
    "collapsed": true
   },
   "source": [
    "# <center> Pandas dataframes"
   ]
  },
  {
   "cell_type": "code",
   "execution_count": null,
   "metadata": {
    "collapsed": true,
    "nbpresent": {
     "id": "4f1c088d-e323-45fd-b7c4-3fc3cec97cc0"
    }
   },
   "outputs": [],
   "source": [
    "import pandas as pd"
   ]
  },
  {
   "cell_type": "code",
   "execution_count": null,
   "metadata": {
    "collapsed": false,
    "nbpresent": {
     "id": "1862e15b-a819-4062-93a3-b68d3f0a0865"
    }
   },
   "outputs": [],
   "source": [
    "data = pd.read_csv('Advertising.csv',index_col=0)\n",
    "data"
   ]
  },
  {
   "cell_type": "code",
   "execution_count": null,
   "metadata": {
    "collapsed": false,
    "nbpresent": {
     "id": "17e406e1-da68-436f-8fc0-312ef6f15d0b"
    }
   },
   "outputs": [],
   "source": [
    "data.shape"
   ]
  },
  {
   "cell_type": "code",
   "execution_count": null,
   "metadata": {
    "collapsed": false,
    "nbpresent": {
     "id": "61b8eb03-4209-4149-bd6d-dd930fd1bde1"
    }
   },
   "outputs": [],
   "source": [
    "data.isnull().any()"
   ]
  },
  {
   "cell_type": "code",
   "execution_count": null,
   "metadata": {
    "collapsed": false,
    "nbpresent": {
     "id": "d49a1f93-3fd0-4a35-9fd4-f160694f08c8"
    }
   },
   "outputs": [],
   "source": [
    "data.isnull().any()"
   ]
  },
  {
   "cell_type": "code",
   "execution_count": null,
   "metadata": {
    "collapsed": false,
    "nbpresent": {
     "id": "ba4ad056-9582-41c1-8be5-fdc14d755642"
    }
   },
   "outputs": [],
   "source": [
    "data[:5]"
   ]
  },
  {
   "cell_type": "code",
   "execution_count": null,
   "metadata": {
    "collapsed": false,
    "nbpresent": {
     "id": "c128b972-06c0-423d-a7b0-3faf2a3879c0"
    }
   },
   "outputs": [],
   "source": [
    "data.head()"
   ]
  },
  {
   "cell_type": "code",
   "execution_count": null,
   "metadata": {
    "collapsed": false,
    "nbpresent": {
     "id": "2f36e2c9-d552-4283-8447-989f1ee51eea"
    }
   },
   "outputs": [],
   "source": [
    "data[::-1].head()"
   ]
  },
  {
   "cell_type": "code",
   "execution_count": null,
   "metadata": {
    "collapsed": false,
    "nbpresent": {
     "id": "a5f6ec90-c63a-4bf1-8581-21f64bd0d0a1"
    }
   },
   "outputs": [],
   "source": [
    "data[::-1].head().values"
   ]
  },
  {
   "cell_type": "code",
   "execution_count": null,
   "metadata": {
    "collapsed": false,
    "nbpresent": {
     "id": "625e7e6f-bb67-4946-b43b-6f4085f64319"
    }
   },
   "outputs": [],
   "source": [
    "data.iloc[2:4,:]"
   ]
  },
  {
   "cell_type": "code",
   "execution_count": null,
   "metadata": {
    "collapsed": false,
    "nbpresent": {
     "id": "e3a92b82-34dc-4354-8939-614c692c667d"
    }
   },
   "outputs": [],
   "source": [
    "data.loc[2:4,:]"
   ]
  },
  {
   "cell_type": "code",
   "execution_count": null,
   "metadata": {
    "collapsed": false,
    "nbpresent": {
     "id": "b92db07c-d63b-4095-ad7e-d9d7a554a74e"
    }
   },
   "outputs": [],
   "source": [
    "data.loc[2:4,'TV']"
   ]
  },
  {
   "cell_type": "code",
   "execution_count": null,
   "metadata": {
    "collapsed": false,
    "nbpresent": {
     "id": "e2deb9b5-6f70-46fc-b4d1-8edcba778ed6"
    }
   },
   "outputs": [],
   "source": [
    "data.loc[2:4,['TV','Sales']]"
   ]
  },
  {
   "cell_type": "code",
   "execution_count": null,
   "metadata": {
    "collapsed": false,
    "nbpresent": {
     "id": "f4b33c37-6314-48d4-99f1-bcfb1cb5701a"
    }
   },
   "outputs": [],
   "source": [
    "data['Sales']<10"
   ]
  },
  {
   "cell_type": "code",
   "execution_count": null,
   "metadata": {
    "collapsed": false,
    "nbpresent": {
     "id": "c6049f8e-3a66-4957-990a-84ce3df01384"
    }
   },
   "outputs": [],
   "source": [
    "data.loc[data['Sales']<10,:]"
   ]
  },
  {
   "cell_type": "code",
   "execution_count": null,
   "metadata": {
    "collapsed": false,
    "nbpresent": {
     "id": "4fd29f86-aef8-4649-901d-76fbfe835f56"
    }
   },
   "outputs": [],
   "source": [
    "%matplotlib inline\n",
    "import matplotlib.pyplot as plt\n",
    "\n",
    "fig1=plt.figure()\n",
    "data.hist('TV')"
   ]
  },
  {
   "cell_type": "code",
   "execution_count": null,
   "metadata": {
    "collapsed": false,
    "nbpresent": {
     "id": "ec698dae-dc92-4f60-8aac-607748264ae8"
    }
   },
   "outputs": [],
   "source": [
    "data.plot(kind='scatter', x='TV', y='Sales', figsize=(4, 4))\n",
    "data.plot(kind='scatter', x='Radio', y='Sales', figsize=(4, 4))\n",
    "data.plot(kind='scatter', x='Newspaper', y='Sales', figsize=(4, 4))"
   ]
  },
  {
   "cell_type": "markdown",
   "metadata": {
    "collapsed": true
   },
   "source": [
    "# <center> Linear Regression"
   ]
  },
  {
   "cell_type": "code",
   "execution_count": null,
   "metadata": {
    "collapsed": true,
    "nbpresent": {
     "id": "167e2c70-e8a5-45a8-928a-77c2daa7ac22"
    }
   },
   "outputs": [],
   "source": [
    "from sklearn import linear_model"
   ]
  },
  {
   "cell_type": "code",
   "execution_count": null,
   "metadata": {
    "collapsed": true,
    "nbpresent": {
     "id": "7d724108-8d00-4100-a1f1-ba82625b5b3f"
    }
   },
   "outputs": [],
   "source": [
    "reg = linear_model.LinearRegression()"
   ]
  },
  {
   "cell_type": "markdown",
   "metadata": {
    "collapsed": true
   },
   "source": [
    "## Phase I - Scikit-learn with just TV as a covariate"
   ]
  },
  {
   "cell_type": "code",
   "execution_count": null,
   "metadata": {
    "collapsed": false,
    "nbpresent": {
     "id": "818c06d7-ca35-49b3-8253-8e7ef5e2e9fc"
    }
   },
   "outputs": [],
   "source": [
    "X = np.array(data[['TV']]).reshape(-1,1)\n",
    "y = np.array(data['Sales']).reshape(-1,1)\n",
    "X"
   ]
  },
  {
   "cell_type": "code",
   "execution_count": null,
   "metadata": {
    "collapsed": false,
    "nbpresent": {
     "id": "544e0d31-1ed7-497a-9cd7-4664fa3a18ca"
    }
   },
   "outputs": [],
   "source": [
    "reg.fit(X,y)"
   ]
  },
  {
   "cell_type": "code",
   "execution_count": null,
   "metadata": {
    "collapsed": false,
    "nbpresent": {
     "id": "8d26b37c-8f4c-4931-ab1e-d9d6d151a58e"
    }
   },
   "outputs": [],
   "source": [
    "print('\\nIntercept: ', reg.intercept_)\n",
    "print('\\nCoefficients: ', reg.coef_)"
   ]
  },
  {
   "cell_type": "code",
   "execution_count": null,
   "metadata": {
    "collapsed": false,
    "nbpresent": {
     "id": "01e4bcb3-3151-4b72-88cb-c4e830b63422"
    }
   },
   "outputs": [],
   "source": [
    "print(\"\\nMean squared error: %.2f\" % np.mean((reg.predict(X) - y) ** 2))"
   ]
  },
  {
   "cell_type": "code",
   "execution_count": null,
   "metadata": {
    "collapsed": false,
    "nbpresent": {
     "id": "9518e660-4d81-4f44-ab23-41590b6aa74c"
    }
   },
   "outputs": [],
   "source": [
    "print('\\nExplained Fraction of Variance: %.2f ' % reg.score(X, y))"
   ]
  },
  {
   "cell_type": "code",
   "execution_count": null,
   "metadata": {
    "collapsed": false,
    "nbpresent": {
     "id": "885c9eb6-65bf-4ad3-a64c-7fd13e9d42f2"
    }
   },
   "outputs": [],
   "source": [
    "plt.figure()\n",
    "plt.scatter(X, y, color='blue')\n",
    "plt.plot(X, reg.predict(X), color='red',linewidth=3)\n",
    "plt.xlabel('TV')\n",
    "plt.ylabel('Sales')\n",
    "plt.legend(['Fit','Raw Data'])"
   ]
  },
  {
   "cell_type": "markdown",
   "metadata": {
    "collapsed": true
   },
   "source": [
    "## Phase II - Scikit-learn with all covariates"
   ]
  },
  {
   "cell_type": "code",
   "execution_count": null,
   "metadata": {
    "collapsed": true,
    "nbpresent": {
     "id": "75f11062-bba4-4e2d-b88b-bafd45b3e613"
    }
   },
   "outputs": [],
   "source": [
    "X = np.array(data[['TV','Radio','Newspaper']]).reshape(-1,3)\n",
    "y = np.array(data['Sales']).reshape(-1,1)"
   ]
  },
  {
   "cell_type": "code",
   "execution_count": null,
   "metadata": {
    "collapsed": false,
    "nbpresent": {
     "id": "14979bb6-540c-4acb-9a04-15dac0ca0f4f"
    }
   },
   "outputs": [],
   "source": [
    "reg.fit(X,y)"
   ]
  },
  {
   "cell_type": "code",
   "execution_count": null,
   "metadata": {
    "collapsed": false,
    "nbpresent": {
     "id": "9c123cf9-cee4-4025-99cb-ec3a918073f5"
    }
   },
   "outputs": [],
   "source": [
    "print('\\nIntercept: ', reg.intercept_)\n",
    "print('\\nCoefficients: ', reg.coef_)"
   ]
  },
  {
   "cell_type": "code",
   "execution_count": null,
   "metadata": {
    "collapsed": false,
    "nbpresent": {
     "id": "9c0af0b4-82f7-418e-9b5e-dfa1836ac0b7"
    }
   },
   "outputs": [],
   "source": [
    "print(\"\\nMean squared error: %.2f\" % np.mean((reg.predict(X) - y) ** 2))"
   ]
  },
  {
   "cell_type": "code",
   "execution_count": null,
   "metadata": {
    "collapsed": false,
    "nbpresent": {
     "id": "3e9606e1-ccf6-48a2-8307-ec6098a4d855"
    }
   },
   "outputs": [],
   "source": [
    "print('\\nExplained Fraction of Variance: %.2f ' % reg.score(X, y))"
   ]
  },
  {
   "cell_type": "markdown",
   "metadata": {
    "collapsed": true
   },
   "source": [
    "## Phase III - Statsmodel"
   ]
  },
  {
   "cell_type": "code",
   "execution_count": null,
   "metadata": {
    "collapsed": false,
    "nbpresent": {
     "id": "48f86d7f-28cc-4afb-8495-9205fcc81367"
    }
   },
   "outputs": [],
   "source": [
    "import statsmodels.formula.api as smf"
   ]
  },
  {
   "cell_type": "code",
   "execution_count": null,
   "metadata": {
    "collapsed": true,
    "nbpresent": {
     "id": "482a464c-41c4-4f43-bccf-6f5f1a05e754"
    }
   },
   "outputs": [],
   "source": [
    "results1 = smf.ols('Sales ~ TV + Radio + Newspaper',data=data).fit()"
   ]
  },
  {
   "cell_type": "code",
   "execution_count": null,
   "metadata": {
    "collapsed": false,
    "nbpresent": {
     "id": "3dd6e4e1-6723-4a9e-87da-1a89d6b583be"
    }
   },
   "outputs": [],
   "source": [
    "print(results1.summary())"
   ]
  },
  {
   "cell_type": "code",
   "execution_count": null,
   "metadata": {
    "collapsed": true
   },
   "outputs": [],
   "source": [
    "results2 = smf.ols('Sales ~ TV + Radio + TV*Radio',data=data).fit()"
   ]
  },
  {
   "cell_type": "code",
   "execution_count": null,
   "metadata": {
    "collapsed": false
   },
   "outputs": [],
   "source": [
    "print(results2.summary())"
   ]
  },
  {
   "cell_type": "code",
   "execution_count": null,
   "metadata": {
    "collapsed": true
   },
   "outputs": [],
   "source": []
  }
 ],
 "metadata": {
  "anaconda-cloud": {},
  "kernelspec": {
   "display_name": "Python [default]",
   "language": "python",
   "name": "python2"
  },
  "language_info": {
   "codemirror_mode": {
    "name": "ipython",
    "version": 2
   },
   "file_extension": ".py",
   "mimetype": "text/x-python",
   "name": "python",
   "nbconvert_exporter": "python",
   "pygments_lexer": "ipython2",
   "version": "2.7.13"
  },
  "nbpresent": {
   "slides": {
    "8ce21dab-2b7a-439c-8f0a-8a1036a1ac0d": {
     "id": "8ce21dab-2b7a-439c-8f0a-8a1036a1ac0d",
     "prev": null,
     "regions": {
      "d8401624-efe9-4853-a676-de863b4ba3cd": {
       "attrs": {
        "height": 1,
        "width": 1,
        "x": 0,
        "y": 0
       },
       "id": "d8401624-efe9-4853-a676-de863b4ba3cd"
      }
     },
     "theme": null
    }
   },
   "themes": {}
  }
 },
 "nbformat": 4,
 "nbformat_minor": 1
}
